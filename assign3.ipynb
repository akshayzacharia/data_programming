{
 "cells": [
  {
   "cell_type": "code",
   "execution_count": 2,
   "metadata": {},
   "outputs": [
    {
     "name": "stdout",
     "output_type": "stream",
     "text": [
      "Enter the file name:C:\\Users\\aksha\\Desktop\\romeo.txt\n",
      "['Arise', 'But', 'It', 'Juliet', 'Who', 'already', 'and', 'breaks', 'east', 'envious', 'fair', 'grief', 'is', 'kill', 'light', 'moon', 'pale', 'sick', 'soft', 'sun', 'the', 'through', 'what', 'window', 'with', 'yonder']\n"
     ]
    }
   ],
   "source": [
    "fname = input(\"Enter the file name:\");\n",
    "list1 = list();\n",
    "try:\n",
    "    fhand = open(fname)\n",
    "except:\n",
    "    print(\"File cannot be found!,Please enter valid file name\")\n",
    "    exit()\n",
    "for eachline in fhand:\n",
    "    words = eachline.split()\n",
    "    for word in words:\n",
    "        if word not in list1:\n",
    "            list1.append(word);\n",
    "list1.sort();\n",
    "print(list1);"
   ]
  },
  {
   "cell_type": "code",
   "execution_count": 3,
   "metadata": {},
   "outputs": [
    {
     "name": "stdout",
     "output_type": "stream",
     "text": [
      "Enter the file name:C:\\Users\\aksha\\Desktop\\short.txt\n",
      "['stephen.marquard@uct.ac.za', 'louis@media.berkeley.edu', 'zqian@umich.edu', 'rjlowe@iupui.edu', 'zqian@umich.edu', 'rjlowe@iupui.edu', 'cwen@iupui.edu', 'cwen@iupui.edu', 'gsilver@umich.edu', 'gsilver@umich.edu', 'zqian@umich.edu', 'gsilver@umich.edu', 'wagnermr@iupui.edu', 'zqian@umich.edu', 'antranig@caret.cam.ac.uk', 'gopal.ramasammycook@gmail.com', 'david.horwitz@uct.ac.za', 'david.horwitz@uct.ac.za', 'david.horwitz@uct.ac.za', 'david.horwitz@uct.ac.za', 'stephen.marquard@uct.ac.za', 'louis@media.berkeley.edu', 'louis@media.berkeley.edu', 'ray@media.berkeley.edu', 'cwen@iupui.edu', 'cwen@iupui.edu', 'cwen@iupui.edu']\n",
      "\n",
      "There were 27 lines in the file with From as the first word\n"
     ]
    }
   ],
   "source": [
    "list1 = list()\n",
    "words = list()\n",
    "fnm = input(\"Enter the file name:\")\n",
    "fhand = open(fnm)\n",
    "for eachline in fhand:\n",
    "    words = eachline.split()\n",
    "    if len(words) == 0 or words[0] != \"From\":\n",
    "        continue\n",
    "    list1.append(words[1])\n",
    "    \n",
    "\n",
    "print(list1)\n",
    "print(\"\\nThere were \" +str(len(list1))+ \" lines in the file with From as the first word\")"
   ]
  },
  {
   "cell_type": "code",
   "execution_count": 9,
   "metadata": {},
   "outputs": [
    {
     "name": "stdout",
     "output_type": "stream",
     "text": [
      "Enter the file name:C:\\Users\\aksha\\Desktop\\short.txt\n",
      "cwen@iupui.edu 5\n"
     ]
    }
   ],
   "source": [
    "fname = input(\"Enter the file name:\")\n",
    "email_list = list()\n",
    "maxoccurence = 0\n",
    "maxemail =  0\n",
    "counts = dict()\n",
    "try:\n",
    "    fhand = open(fname)\n",
    "except:\n",
    "    print(\"File cannot be found!,Please enter valid file name\")\n",
    "    exit()\n",
    "for eachline in fhand:\n",
    "    words = eachline.split()\n",
    "    if len(words) == 0 or words[0] != \"From\":\n",
    "        continue\n",
    "    email_list.append(words[1])\n",
    "\n",
    "for email in email_list:\n",
    "    counts[email] = counts.get(email, 0) + 1\n",
    "\n",
    "for key,value in counts.items() :\n",
    "      if value > maxoccurence:\n",
    "          maxoccurence = value\n",
    "          maxemail = key\n",
    "\n",
    "print(maxemail, maxoccurence)"
   ]
  },
  {
   "cell_type": "code",
   "execution_count": 5,
   "metadata": {},
   "outputs": [
    {
     "name": "stdout",
     "output_type": "stream",
     "text": [
      "Enter the file name:C:\\Users\\aksha\\Desktop\\short.txt\n",
      "{'uct.ac.za': 6, 'media.berkeley.edu': 4, 'umich.edu': 7, 'iupui.edu': 8, 'caret.cam.ac.uk': 1, 'gmail.com': 1}\n"
     ]
    }
   ],
   "source": [
    "dictionary = dict()\n",
    "list1 = list()\n",
    "\n",
    "fnm = input(\"Enter the file name:\")\n",
    "fhand = open(fnm)\n",
    "for eachline in fhand:\n",
    "    words = eachline.split()\n",
    "    if len(words) == 0 or words[0] != \"From\":\n",
    "        continue\n",
    "    domain_start = words[1].find(\"@\")\n",
    "    domain_start += 1\n",
    "    domain = words[1][domain_start:]\n",
    "    if domain not in dictionary:\n",
    "        dictionary[domain] = 1\n",
    "    else:\n",
    "        dictionary[domain] += 1\n",
    "\n",
    "print(dictionary)"
   ]
  },
  {
   "cell_type": "code",
   "execution_count": 6,
   "metadata": {},
   "outputs": [
    {
     "name": "stdout",
     "output_type": "stream",
     "text": [
      "Enter the file name:C:\\Users\\aksha\\Desktop\\short.txt\n",
      "04 3\n",
      "06 1\n",
      "07 1\n",
      "09 2\n",
      "10 3\n",
      "11 6\n",
      "14 1\n",
      "15 2\n",
      "16 4\n",
      "17 2\n",
      "18 1\n",
      "19 1\n"
     ]
    }
   ],
   "source": [
    "dictionary = dict()\n",
    "list1 = list()\n",
    "\n",
    "fnm = input(\"Enter the file name:\")\n",
    "fhand = open(fnm)\n",
    "for eachline in fhand:\n",
    "    words = eachline.split()\n",
    "    if len(words) == 0 or words[0] != \"From\":\n",
    "        continue\n",
    "    hr_end = words[5].find(\":\")\n",
    "    hour = words[5][:hr_end]\n",
    "    if hour not in dictionary:\n",
    "        dictionary[hour] = 1\n",
    "    else:\n",
    "        dictionary[hour] += 1\n",
    "\n",
    "for key,value in list(dictionary.items()):\n",
    "    list1.append((key,value))\n",
    "\n",
    "list1.sort()\n",
    "\n",
    "for key,value in list1:\n",
    "    print (key, value)"
   ]
  },
  {
   "cell_type": "code",
   "execution_count": 8,
   "metadata": {},
   "outputs": [
    {
     "name": "stdout",
     "output_type": "stream",
     "text": [
      "Enter your file nameC:\\Users\\aksha\\Desktop\\short.txt\n",
      "0.093 e\n",
      "0.089 a\n",
      "0.077 i\n",
      "0.071 o\n",
      "0.069 t\n",
      "0.069 r\n",
      "0.064 s\n",
      "0.053 u\n",
      "0.053 c\n",
      "0.044 n\n",
      "0.043 p\n",
      "0.042 m\n",
      "0.034 d\n",
      "0.031 l\n",
      "0.024 h\n",
      "0.021 f\n",
      "0.02 k\n",
      "0.019 b\n",
      "0.018 g\n",
      "0.017 v\n",
      "0.016 j\n",
      "0.011 y\n",
      "0.01 w\n",
      "0.008 x\n",
      "0.001 z\n",
      "0.001 q\n"
     ]
    }
   ],
   "source": [
    "import string\n",
    "dictionary = dict()\n",
    "list1 = list()\n",
    "count = 0\n",
    "fname = input(\"Enter your file name\")\n",
    "fhandle = open(fname)\n",
    "try:\n",
    "    fhandle = open(fname)\n",
    "except:\n",
    "    print(\"Invalid file name\")\n",
    "    exit();\n",
    "for eachline in fhandle:\n",
    "    eachline = eachline.translate(eachline.maketrans('', '', string.punctuation))\n",
    "    eachline = eachline.translate(eachline.maketrans('', '', string.digits))\n",
    "    eachline = eachline.lower()\n",
    "    eachline = eachline.split()\n",
    "\n",
    "    for word in eachline:\n",
    "        for letter in word:\n",
    "            count += 1\n",
    "            if letter not in dictionary:\n",
    "                dictionary[letter] = 1\n",
    "            else:\n",
    "                dictionary[letter] += 1\n",
    "\n",
    "\n",
    "for key,value in list(dictionary.items()):\n",
    "    list1.append( (round(value / count, 3) , key))\n",
    "\n",
    "list1.sort(reverse = True)\n",
    "\n",
    "for key,value in list1:\n",
    "    print(key,value)"
   ]
  },
  {
   "cell_type": "code",
   "execution_count": null,
   "metadata": {},
   "outputs": [],
   "source": []
  }
 ],
 "metadata": {
  "kernelspec": {
   "display_name": "Python 3",
   "language": "python",
   "name": "python3"
  },
  "language_info": {
   "codemirror_mode": {
    "name": "ipython",
    "version": 3
   },
   "file_extension": ".py",
   "mimetype": "text/x-python",
   "name": "python",
   "nbconvert_exporter": "python",
   "pygments_lexer": "ipython3",
   "version": "3.7.3"
  }
 },
 "nbformat": 4,
 "nbformat_minor": 2
}
